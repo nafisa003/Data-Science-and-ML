{
  "nbformat": 4,
  "nbformat_minor": 0,
  "metadata": {
    "colab": {
      "provenance": [],
      "authorship_tag": "ABX9TyMinqmXcBnTVM8OJfUmn9Ud",
      "include_colab_link": true
    },
    "kernelspec": {
      "name": "python3",
      "display_name": "Python 3"
    },
    "language_info": {
      "name": "python"
    }
  },
  "cells": [
    {
      "cell_type": "markdown",
      "metadata": {
        "id": "view-in-github",
        "colab_type": "text"
      },
      "source": [
        "<a href=\"https://colab.research.google.com/github/nafisa003/Data-Science-and-ML/blob/main/class-03/115_Problems_on_Basic_Python_Basic_Problems.ipynb\" target=\"_parent\"><img src=\"https://colab.research.google.com/assets/colab-badge.svg\" alt=\"Open In Colab\"/></a>"
      ]
    },
    {
      "cell_type": "markdown",
      "source": [
        "#Basic Problems"
      ],
      "metadata": {
        "id": "ZAH-O_J9Anka"
      }
    },
    {
      "cell_type": "markdown",
      "source": [
        "1. Variable Swap: Write a Python program to swap the values of two variables without using a temporary variable."
      ],
      "metadata": {
        "id": "Kop--lfEA0Oq"
      }
    },
    {
      "cell_type": "code",
      "source": [
        "x=9\n",
        "y=7\n",
        "x,y=y,x\n",
        "print(x,y)"
      ],
      "metadata": {
        "colab": {
          "base_uri": "https://localhost:8080/"
        },
        "id": "SIQepW-XA7Xk",
        "outputId": "79aa81de-5a2b-4de4-a7fd-31b014e623f0"
      },
      "execution_count": 1,
      "outputs": [
        {
          "output_type": "stream",
          "name": "stdout",
          "text": [
            "7 9\n"
          ]
        }
      ]
    },
    {
      "cell_type": "markdown",
      "source": [
        "2. String Reverse: Write a Python function to reverse a given string and return the reversed string."
      ],
      "metadata": {
        "id": "-lmz76YRCUc3"
      }
    },
    {
      "cell_type": "code",
      "source": [
        "g=\"i am happy\"\n",
        "\n",
        "def rev(g):\n",
        "      s=\"\"\n",
        "      for i in g:\n",
        "        s= i + s\n",
        "      return s\n",
        "print(rev(g))\n"
      ],
      "metadata": {
        "colab": {
          "base_uri": "https://localhost:8080/"
        },
        "id": "GP0jEIysCZ06",
        "outputId": "31da9bde-a65c-4144-96b4-51141a688503"
      },
      "execution_count": 2,
      "outputs": [
        {
          "output_type": "stream",
          "name": "stdout",
          "text": [
            "yppah ma i\n"
          ]
        }
      ]
    },
    {
      "cell_type": "markdown",
      "source": [
        "4. Type Conversion: Given a list of integers, write a Python program to convert each element of the list to a string."
      ],
      "metadata": {
        "id": "ylmcE6sFC5SK"
      }
    },
    {
      "cell_type": "code",
      "source": [
        "list_string = [1, 12, 15, 21, 131]\n",
        "\n",
        "# Using list comprehension\n",
        "output = [str(x) for x in list_string]\n",
        "\n",
        "# Printing output\n",
        "print(output)"
      ],
      "metadata": {
        "colab": {
          "base_uri": "https://localhost:8080/"
        },
        "id": "fxtvm-ejFAyq",
        "outputId": "5e8f892e-9675-46a9-cb8c-89892953f7c5"
      },
      "execution_count": 3,
      "outputs": [
        {
          "output_type": "stream",
          "name": "stdout",
          "text": [
            "['1', '12', '15', '21', '131']\n"
          ]
        }
      ]
    },
    {
      "cell_type": "markdown",
      "source": [
        "5. Temperature Converter: Write a Python program that converts a temperature in Celsius to Fahrenheit. Take the Celsius temperature as input from the user."
      ],
      "metadata": {
        "id": "1KreGXmHFPQD"
      }
    },
    {
      "cell_type": "code",
      "source": [
        "def cel_to_fahrenheit(cel_temp):\n",
        "  fah_temp= (9/5 * cel_temp) + 32\n",
        "  return fah_temp\n",
        "print(cel_to_fahrenheit(100))"
      ],
      "metadata": {
        "colab": {
          "base_uri": "https://localhost:8080/"
        },
        "id": "AMI8bIR2Il78",
        "outputId": "f09eeacc-c1f1-4c1c-c62b-31ff53728344"
      },
      "execution_count": 7,
      "outputs": [
        {
          "output_type": "stream",
          "name": "stdout",
          "text": [
            "212.0\n"
          ]
        }
      ]
    },
    {
      "cell_type": "markdown",
      "source": [
        "6. Data Type Checker: Write a Python function that takes a variable as input and returns the data type of the variable as a string (e.g., “int”, “float”, “str”, “list”, etc.)."
      ],
      "metadata": {
        "id": "kmJ0-HmRLIDM"
      }
    },
    {
      "cell_type": "code",
      "source": [
        "def type_checker(var):\n",
        "  return type(var)\n",
        "print(type_checker(1))"
      ],
      "metadata": {
        "colab": {
          "base_uri": "https://localhost:8080/"
        },
        "id": "-z4QMcDVLufj",
        "outputId": "bf0874ef-ec57-42d9-8fd6-aa9e1acf7e28"
      },
      "execution_count": 9,
      "outputs": [
        {
          "output_type": "stream",
          "name": "stdout",
          "text": [
            "<class 'int'>\n"
          ]
        }
      ]
    },
    {
      "cell_type": "markdown",
      "source": [
        "7. String Palindrome: Write a Python function to check if a given string is a palindrome or not."
      ],
      "metadata": {
        "id": "PKpeEi1FMD35"
      }
    },
    {
      "cell_type": "code",
      "source": [
        "var=\"sassy\"\n",
        "\n",
        "def palindrome(var):\n",
        "  return var==var[::-1]\n",
        "print(palindrome(var))"
      ],
      "metadata": {
        "colab": {
          "base_uri": "https://localhost:8080/"
        },
        "id": "z5JYNazUMyHc",
        "outputId": "53210861-790a-4937-bda1-bbde1b150271"
      },
      "execution_count": 12,
      "outputs": [
        {
          "output_type": "stream",
          "name": "stdout",
          "text": [
            "False\n"
          ]
        }
      ]
    },
    {
      "cell_type": "markdown",
      "source": [
        "8. String Reversal with Slicing: Write a Python function to reverse a given string using slicing."
      ],
      "metadata": {
        "id": "j4EQ2hBpNHl3"
      }
    },
    {
      "cell_type": "code",
      "source": [
        "var=\"greetings\"\n",
        "print(var[::-1])"
      ],
      "metadata": {
        "colab": {
          "base_uri": "https://localhost:8080/"
        },
        "id": "Vy974t0wNQCI",
        "outputId": "9bca5dff-512e-419c-e2f8-39dcc546405b"
      },
      "execution_count": 13,
      "outputs": [
        {
          "output_type": "stream",
          "name": "stdout",
          "text": [
            "sgniteerg\n"
          ]
        }
      ]
    },
    {
      "cell_type": "markdown",
      "source": [
        "9. String Concatenation: Write a Python program that takes two strings as input and concatenates them into a single string without using the `+` operator."
      ],
      "metadata": {
        "id": "meczRTfKNUq8"
      }
    },
    {
      "cell_type": "code",
      "source": [
        "def concat(s1, s2):\n",
        "  s3=\"\"\n",
        "  for i in s1:\n",
        "    s3+=i\n",
        "  for j in s2:\n",
        "    s3+=j\n",
        "  return s3\n",
        "print(concat(\"He\", \"knows\"))\n",
        "\n",
        "var1= \"He\"\n",
        "var2= \"knows\"\n",
        "var3 = \"{} {}\".format(var1, var2)"
      ],
      "metadata": {
        "colab": {
          "base_uri": "https://localhost:8080/"
        },
        "id": "yyIplppdNZey",
        "outputId": "155cbe8d-6276-4744-a213-bb12645384ba"
      },
      "execution_count": 18,
      "outputs": [
        {
          "output_type": "stream",
          "name": "stdout",
          "text": [
            "Heknows\n"
          ]
        }
      ]
    },
    {
      "cell_type": "markdown",
      "source": [
        "10. Typecasting Challenge: Given three variables: `a = ‘100’`, `b = 25`, and `c = ‘10.5’`, write a Python program to perform the following operations and print the results: – Convert `a` to an integer and add it to `b`. – Convert `c` to a float and subtract it from the result of the first operation. – Convert the final result to a string and concatenate it with the string ” is the answer.”"
      ],
      "metadata": {
        "id": "nrrre0a1NuDT"
      }
    },
    {
      "cell_type": "code",
      "source": [
        "a= \"100\"\n",
        "b= 25\n",
        "c= \"10.5\"\n",
        "\n",
        "ans = str((int(a) +b) - float (c))\n",
        "\n",
        "print (ans + \" is the answer\")"
      ],
      "metadata": {
        "colab": {
          "base_uri": "https://localhost:8080/"
        },
        "id": "CptcDSqfN8Id",
        "outputId": "5f979ca9-3ae2-48cc-9acf-84cfe738c92f"
      },
      "execution_count": 17,
      "outputs": [
        {
          "output_type": "stream",
          "name": "stdout",
          "text": [
            "114.5 is the answer\n"
          ]
        }
      ]
    },
    {
      "cell_type": "code",
      "source": [],
      "metadata": {
        "id": "b6TsrVW_O0H9"
      },
      "execution_count": null,
      "outputs": []
    }
  ]
}